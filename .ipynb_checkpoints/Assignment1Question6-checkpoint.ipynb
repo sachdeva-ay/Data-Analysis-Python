{
 "cells": [
  {
   "cell_type": "code",
   "execution_count": 1,
   "metadata": {
    "collapsed": false
   },
   "outputs": [
    {
     "data": {
      "text/plain": [
       "['1789-Washington.txt',\n",
       " '1793-Washington.txt',\n",
       " '1797-Adams.txt',\n",
       " '1801-Jefferson.txt',\n",
       " '1805-Jefferson.txt']"
      ]
     },
     "execution_count": 1,
     "metadata": {},
     "output_type": "execute_result"
    }
   ],
   "source": [
    "import nltk\n",
    "from nltk.corpus import inaugural\n",
    "all_presidential=inaugural.fileids()\n",
    "all_presidential[:5]"
   ]
  },
  {
   "cell_type": "code",
   "execution_count": 2,
   "metadata": {
    "collapsed": false
   },
   "outputs": [],
   "source": [
    "president_Name = []\n",
    "president_Speech = {}\n",
    "\n",
    "for name in all_presidential: \n",
    "        president_Name = name[5:-4]\n",
    "        words = list(inaugural.words(name))\n",
    "        if (president_Name not in president_Speech):\n",
    "            president_Speech[president_Name] = words\n",
    "        else:\n",
    "            president_Speech[president_Name].extend(words)"
   ]
  },
  {
   "cell_type": "code",
   "execution_count": 3,
   "metadata": {
    "collapsed": false
   },
   "outputs": [
    {
     "name": "stdout",
     "output_type": "stream",
     "text": [
      "President unique words in his inaugural speech(sorted by name)\n",
      "\n",
      "\n",
      "President\t Unique Words\n",
      "Adams            1503\n",
      "Buchanan         948\n",
      "Bush             1578\n",
      "Carter           529\n",
      "Cleveland        1219\n",
      "Clinton          1138\n",
      "Coolidge         1221\n",
      "Eisenhower       1250\n",
      "Garfield         1022\n",
      "Grant            855\n",
      "Harding          1170\n",
      "Harrison         2662\n",
      "Hayes            832\n",
      "Hoover           1087\n",
      "Jackson          846\n",
      "Jefferson        1261\n",
      "Johnson          571\n",
      "Kennedy          570\n",
      "Lincoln          1261\n",
      "Madison          899\n",
      "McKinley         1682\n",
      "Monroe           1781\n",
      "Nixon            1037\n",
      "Obama            938\n",
      "Pierce           1168\n",
      "Polk             1333\n",
      "Reagan           1453\n",
      "Roosevelt        1704\n",
      "Taft             1439\n",
      "Taylor           499\n",
      "Truman           781\n",
      "VanBuren         1318\n",
      "Washington       663\n",
      "Wilson           996\n"
     ]
    }
   ],
   "source": [
    "print(\"President unique words in his inaugural speech(sorted by name)\")\n",
    "print('\\n')\n",
    "print(\"President\\t\", \"Unique Words\")\n",
    "for key, value in sorted(president_Speech.items()):\n",
    "    print(\"{0:16} {1}\".format(key,len(set(president_Speech[key]))))"
   ]
  }
 ],
 "metadata": {
  "anaconda-cloud": {},
  "kernelspec": {
   "display_name": "Python [conda root]",
   "language": "python",
   "name": "conda-root-py"
  },
  "language_info": {
   "codemirror_mode": {
    "name": "ipython",
    "version": 3
   },
   "file_extension": ".py",
   "mimetype": "text/x-python",
   "name": "python",
   "nbconvert_exporter": "python",
   "pygments_lexer": "ipython3",
   "version": "3.5.2"
  }
 },
 "nbformat": 4,
 "nbformat_minor": 1
}
