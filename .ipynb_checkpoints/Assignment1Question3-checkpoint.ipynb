{
 "cells": [
  {
   "cell_type": "code",
   "execution_count": 1,
   "metadata": {
    "collapsed": false
   },
   "outputs": [
    {
     "name": "stdout",
     "output_type": "stream",
     "text": [
      "firefox.txt\n",
      "grail.txt\n",
      "overheard.txt\n",
      "pirates.txt\n",
      "singles.txt\n",
      "wine.txt\n",
      "['PIRATES', 'OF', 'THE', 'CARRIBEAN', ':', 'DEAD', ...]\n",
      "193\n",
      "133\n",
      "Jack is the real leading man in this movie\n"
     ]
    }
   ],
   "source": [
    "import nltk\n",
    "from nltk.corpus import webtext\n",
    "for fileid in webtext.fileids():\n",
    "    print(fileid)\n",
    "pirates= webtext.words('pirates.txt')\n",
    "print(pirates)\n",
    "jackCount=0\n",
    "willCount=0\n",
    "for word in pirates:\n",
    "    if word == 'JACK':\n",
    "      jackCount+=1\n",
    "    elif word =='WILL':\n",
    "         willCount+=1\n",
    "print(jackCount)\n",
    "print(willCount)\n",
    "\n",
    "\n",
    "if(jackCount>willCount):\n",
    "                print('Jack is the real leading man in this movie')\n"
   ]
  },
  {
   "cell_type": "code",
   "execution_count": null,
   "metadata": {
    "collapsed": true
   },
   "outputs": [],
   "source": []
  }
 ],
 "metadata": {
  "kernelspec": {
   "display_name": "Python 3",
   "language": "python",
   "name": "python3"
  },
  "language_info": {
   "codemirror_mode": {
    "name": "ipython",
    "version": 3
   },
   "file_extension": ".py",
   "mimetype": "text/x-python",
   "name": "python",
   "nbconvert_exporter": "python",
   "pygments_lexer": "ipython3",
   "version": "3.6.0"
  }
 },
 "nbformat": 4,
 "nbformat_minor": 2
}
