{
 "cells": [
  {
   "cell_type": "code",
   "execution_count": 1,
   "metadata": {
    "collapsed": false
   },
   "outputs": [
    {
     "name": "stdout",
     "output_type": "stream",
     "text": [
      "[('the', 2222), ('and', 2036), ('to', 1515), ('i', 1455), ('of', 1302), ('you', 1124), ('a', 1019), ('my', 914), ('that', 904), ('in', 826), ('it', 778), ('is', 769), ('not', 722), ('d', 662), ('his', 588), ('with', 557), ('this', 546), ('for', 533), ('me', 529), ('your', 528), ('but', 510), ('he', 491), ('be', 476), ('what', 458), ('haue', 448), ('him', 434), ('as', 427), ('so', 424), ('will', 384), ('our', 346), ('ham', 337), ('all', 321), ('thou', 312), ('we', 306), ('are', 305), ('s', 303), ('shall', 300), ('no', 297), ('lord', 293), ('do', 287), ('then', 278), ('on', 276), ('by', 256), ('if', 243), ('come', 232), ('king', 231), ('enter', 230), ('they', 225), ('good', 218), ('let', 217)]\n"
     ]
    }
   ],
   "source": [
    "# top 50 words from Shakespeare\n",
    "import nltk\n",
    "import string\n",
    "import time\n",
    "from collections import Counter\n",
    "from nltk.corpus import gutenberg\n",
    "from nltk.corpus import stopwords\n",
    "\n",
    "shakes=[]\n",
    "shakes.extend(gutenberg.words(\"shakespeare-caesar.txt\"))\n",
    "shakes.extend(gutenberg.words(\"shakespeare-hamlet.txt\"))\n",
    "shakes.extend(gutenberg.words(\"shakespeare-macbeth.txt\"))\n",
    "\n",
    "shakesCount= [s.lower() for s in shakes]\n",
    "fill_shakes=[x for x in shakesCount if x not in stopwords.words('english')]\n",
    "fill_shakes=[u for u in shakesCount if u not in string.punctuation]\n",
    "count=Counter(fill_shakes)\n",
    "print(count.most_common(50))\n"
   ]
  },
  {
   "cell_type": "code",
   "execution_count": 3,
   "metadata": {
    "collapsed": false
   },
   "outputs": [
    {
     "name": "stdout",
     "output_type": "stream",
     "text": [
      "[('i', 7533), ('the', 7165), ('to', 6014), ('you', 5792), ('a', 5148), ('in', 4072), ('and', 3727), ('t', 3460), ('s', 3237), ('on', 3128), ('it', 3029), ('girl', 2956), ('is', 2843), ('guy', 2749), ('of', 2704), ('that', 2638), ('not', 2441), ('1', 2259), ('when', 1819), ('for', 1753), ('2', 1708), ('with', 1683), ('like', 1622), ('...', 1542), ('my', 1504), ('no', 1489), ('have', 1354), ('what', 1338), ('so', 1305), ('me', 1303), ('don', 1227), ('he', 1219), ('be', 1206), ('are', 1203), ('this', 1202), ('can', 1187), ('was', 1156), ('m', 1151), ('if', 1090), ('man', 1075), ('know', 1020), ('do', 1014), ('woman', 998), ('your', 981), ('all', 969), ('just', 965), ('but', 956), ('we', 939), ('up', 921), ('from', 919)]\n"
     ]
    }
   ],
   "source": [
    "import nltk\n",
    "import string\n",
    "import time\n",
    "from collections import Counter\n",
    "from nltk.corpus import webtext\n",
    "web=[]\n",
    "web.extend(webtext.words('firefox.txt'))\n",
    "web.extend(webtext.words('grail.txt'))\n",
    "web.extend(webtext.words('overheard.txt'))\n",
    "web.extend(webtext.words('pirates.txt'))\n",
    "web.extend(webtext.words('singles.txt'))\n",
    "webCount=[w.lower()  for w in web]\n",
    "fill_web=[y for y in webCount if y not in stopwords.words('english')]\n",
    "fill_web=[u for u in webCount if u not in string.punctuation]\n",
    "count1=Counter(fill_web)\n",
    "print(count1.most_common(50))\n",
    "\n",
    "\n",
    "\n",
    "\n",
    "\n",
    "\n",
    "\n",
    "\n"
   ]
  },
  {
   "cell_type": "code",
   "execution_count": null,
   "metadata": {
    "collapsed": true
   },
   "outputs": [],
   "source": []
  },
  {
   "cell_type": "code",
   "execution_count": 4,
   "metadata": {
    "collapsed": false
   },
   "outputs": [
    {
     "name": "stdout",
     "output_type": "stream",
     "text": [
      "[('haue', 448), ('vpon', 162), ('brutus', 162), ('bru', 153), ('hath', 144)]\n"
     ]
    }
   ],
   "source": [
    "top5=[t for t in fill_shakes if t not in fill_web]\n",
    "count2=Counter(top5)\n",
    "print(count2.most_common(5))"
   ]
  },
  {
   "cell_type": "code",
   "execution_count": null,
   "metadata": {
    "collapsed": true
   },
   "outputs": [],
   "source": []
  }
 ],
 "metadata": {
  "kernelspec": {
   "display_name": "Python [default]",
   "language": "python",
   "name": "python3"
  },
  "language_info": {
   "codemirror_mode": {
    "name": "ipython",
    "version": 3
   },
   "file_extension": ".py",
   "mimetype": "text/x-python",
   "name": "python",
   "nbconvert_exporter": "python",
   "pygments_lexer": "ipython3",
   "version": "3.5.2"
  }
 },
 "nbformat": 4,
 "nbformat_minor": 2
}
