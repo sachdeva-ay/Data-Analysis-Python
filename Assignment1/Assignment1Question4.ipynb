{
 "cells": [
  {
   "cell_type": "code",
   "execution_count": 3,
   "metadata": {
    "collapsed": false
   },
   "outputs": [
    {
     "name": "stdout",
     "output_type": "stream",
     "text": [
      "132\n"
     ]
    }
   ],
   "source": [
    "from nltk.corpus import nps_chat\n",
    "nps_chat.fileids()\n",
    "#User 121\n",
    "count=0\n",
    "posts=nps_chat.xml_posts()\n",
    "#rawdata=nps_chat.raw('11-08-20s_705posts.xml')\n",
    "for p in posts:\n",
    "    if p.get('user').endswith('User121'):\n",
    "        count+=1\n",
    "print(count)"
   ]
  },
  {
   "cell_type": "code",
   "execution_count": 6,
   "metadata": {
    "collapsed": false
   },
   "outputs": [
    {
     "name": "stdout",
     "output_type": "stream",
     "text": [
      "Total number of users in the age group of20s:162\n",
      "Total number of users in the age group of30s:44\n",
      "Total number of users in the age group of40s:80\n"
     ]
    }
   ],
   "source": [
    "from xml.etree import cElementTree as ElemenTree\n",
    "from nltk.corpus import nps_chat\n",
    "file=nps_chat.fileids()\n",
    "age=['20s','30s','40s']\n",
    "ageFiles={}\n",
    "for ages in age:\n",
    "    for id in file:\n",
    "        if ages in id:\n",
    "            if ages not in ageFiles.keys():\n",
    "                ageFiles.setdefault(ages, [])\n",
    "                ageFiles[ages].append(id)\n",
    "            else:\n",
    "                ageFiles[ages].append(id)\n",
    "age_dict={}\n",
    "for key, value in ageFiles.items():\n",
    "    users=set()\n",
    "    for file_list in value:\n",
    "        from nltk.corpus import nps_chat\n",
    "        raw = nps_chat.raw(file_list)\n",
    "        my_xml = ElemenTree.fromstring(raw)\n",
    "        for child in my_xml.iter('Post'):\n",
    "            users.add(child.get('user')[9:])\n",
    "    age_dict[key]=users\n",
    "\n",
    "for k,v in age_dict.items():\n",
    "    print(  'Total number of users in the age group of' + k +':' + str(len(v)))"
   ]
  },
  {
   "cell_type": "code",
   "execution_count": null,
   "metadata": {
    "collapsed": true
   },
   "outputs": [],
   "source": []
  }
 ],
 "metadata": {
  "anaconda-cloud": {},
  "kernelspec": {
   "display_name": "Python [conda root]",
   "language": "python",
   "name": "conda-root-py"
  },
  "language_info": {
   "codemirror_mode": {
    "name": "ipython",
    "version": 3
   },
   "file_extension": ".py",
   "mimetype": "text/x-python",
   "name": "python",
   "nbconvert_exporter": "python",
   "pygments_lexer": "ipython3",
   "version": "3.5.2"
  }
 },
 "nbformat": 4,
 "nbformat_minor": 1
}
