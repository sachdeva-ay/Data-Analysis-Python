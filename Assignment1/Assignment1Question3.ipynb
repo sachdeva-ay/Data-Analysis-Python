{
 "cells": [
  {
   "cell_type": "code",
   "execution_count": 4,
   "metadata": {
    "collapsed": false
   },
   "outputs": [
    {
     "name": "stdout",
     "output_type": "stream",
     "text": [
      "['PIRATES', 'OF', 'THE', 'CARRIBEAN', ':', 'DEAD', ...]\n",
      "193\n",
      "133\n",
      "Jack is the real leading man in this movie\n"
     ]
    }
   ],
   "source": [
    "import nltk\n",
    "from nltk.corpus import webtext\n",
    "for fileid in webtext.fileids():\n",
    "    #print(fileid)\n",
    "    book= webtext.words('pirates.txt')\n",
    "print(book)\n",
    "countJack=0\n",
    "countWill=0\n",
    "for w in book:\n",
    "    if w == 'JACK':\n",
    "      countJack+=1\n",
    "    elif w =='WILL':\n",
    "         countWill+=1\n",
    "print(countJack)\n",
    "print(countWill)\n",
    "\n",
    "\n",
    "if(countJack>countWill):\n",
    "                print('Jack is the real leading man in this movie')\n",
    "else :\n",
    "                 print('Will is the real leading man in this movie')"
   ]
  },
  {
   "cell_type": "code",
   "execution_count": null,
   "metadata": {
    "collapsed": true
   },
   "outputs": [],
   "source": []
  }
 ],
 "metadata": {
  "kernelspec": {
   "display_name": "Python [default]",
   "language": "python",
   "name": "python3"
  },
  "language_info": {
   "codemirror_mode": {
    "name": "ipython",
    "version": 3
   },
   "file_extension": ".py",
   "mimetype": "text/x-python",
   "name": "python",
   "nbconvert_exporter": "python",
   "pygments_lexer": "ipython3",
   "version": "3.5.2"
  }
 },
 "nbformat": 4,
 "nbformat_minor": 2
}
