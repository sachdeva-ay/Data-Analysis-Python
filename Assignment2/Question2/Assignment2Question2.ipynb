{
 "cells": [
  {
   "cell_type": "markdown",
   "metadata": {
    "collapsed": true
   },
   "source": [
    "# Question 2"
   ]
  },
  {
   "cell_type": "code",
   "execution_count": 1,
   "metadata": {
    "collapsed": false
   },
   "outputs": [
    {
     "name": "stdout",
     "output_type": "stream",
     "text": [
      "{'categories': [{'alias': 'cafes', 'title': 'Cafes'}, {'alias': 'salad', 'title': 'Salad'}, {'alias': 'sandwiches', 'title': 'Sandwiches'}], 'hours': [{'is_open_now': False, 'hours_type': 'REGULAR', 'open': [{'day': 0, 'end': '1530', 'is_overnight': False, 'start': '0730'}, {'day': 1, 'end': '1530', 'is_overnight': False, 'start': '0730'}, {'day': 2, 'end': '1530', 'is_overnight': False, 'start': '0730'}, {'day': 3, 'end': '1530', 'is_overnight': False, 'start': '0730'}, {'day': 4, 'end': '1530', 'is_overnight': False, 'start': '0730'}]}], 'is_claimed': False, 'term': 'restaurants', 'url': 'https://www.yelp.com/biz/1-abercrombie-lane-sydney?adjust_creative=92p07_JjKyriZTQxAXRiKQ&utm_campaign=yelp_api_v3&utm_medium=api_v3_business_lookup&utm_source=92p07_JjKyriZTQxAXRiKQ', 'price': '$$', 'location': {'state': 'NSW', 'city': 'Sydney', 'country': 'AU', 'address3': '', 'address2': '', 'address1': '1 Abercrombie Lane', 'zip_code': '2000'}, 'review_count': 4, 'id': '1-abercrombie-lane-sydney', 'rating': 3.5, 'coordinates': {'longitude': 151.2080231, 'latitude': -33.8643303}, 'image_url': 'https://s3-media2.fl.yelpcdn.com/bphoto/DP-pXLzGAR_KjGzFs-yg2g/o.jpg', 'phone': '+61292510000', 'is_closed': False, 'name': '1 Abercrombie Lane', 'photos': ['https://s3-media2.fl.yelpcdn.com/bphoto/DP-pXLzGAR_KjGzFs-yg2g/o.jpg', 'https://s3-media2.fl.yelpcdn.com/bphoto/z8rHZVLCMFPDhnW7l1B95w/o.jpg', 'https://s3-media2.fl.yelpcdn.com/bphoto/ggJXs0caa6Ds1JSnA6MERg/o.jpg']}\n"
     ]
    }
   ],
   "source": [
    "import json\n",
    "from pprint import pprint\n",
    "\n",
    "with open(r'C:\\Users\\HP\\Desktop\\my-notebook\\DataAnalysis4Python_Spring17\\Assignment 2\\Data\\1-abercrombie-lane-sydney.json') as data_file:    \n",
    "    data = json.load(data_file)\n",
    "print(data)"
   ]
  },
  {
   "cell_type": "code",
   "execution_count": 3,
   "metadata": {
    "collapsed": false
   },
   "outputs": [],
   "source": [
    "#Part 1:\n",
    "\n",
    "import os, json\n",
    "import pandas as pd\n",
    "import shutil\n",
    "\n",
    "dict_country={}\n",
    "term_dict={}\n",
    "country_list=[]\n",
    "state_dir={}\n",
    "# this finds our json files\n",
    "path_to_json = 'json/'\n",
    "json_files = [pos_json for pos_json in os.listdir(r'C:\\Users\\HP\\Desktop\\my-notebook\\DataAnalysis4Python_Spring17\\Assignment 2\\Data') if pos_json.endswith('.json')]\n",
    "\n",
    "# here I define my pandas Dataframe with the columns I want to get from the json\n",
    "jsons_data = pd.DataFrame(columns=['country', 'state', 'city'])\n",
    "\n",
    "# we need both the json and an index number so use enumerate()\n",
    "for index, js in enumerate(json_files):\n",
    "    with open(os.path.join(r'C:\\Users\\HP\\Desktop\\my-notebook\\DataAnalysis4Python_Spring17\\Assignment 2\\Data', js)) as json_file:\n",
    "        json_text = json.load(json_file)\n",
    "\n",
    "        # here you need to know the layout of your json and each json has to have\n",
    "        # the same structure (obviously not the structure I have here)\n",
    "        term= json_text['term']\n",
    "        country = json_text['location']['country']\n",
    "        state = json_text['location']['state']\n",
    "        city = json_text['location']['city']\n",
    "        \n",
    "        newpath = ((r'Data Processed\\term_%s\\country_%s\\state_%s\\city_%s') % (term,country,state,city)) \n",
    "        if not os.path.exists(newpath): os.makedirs(newpath)\n",
    "        \n",
    "        #print(pos_json)\n",
    "        #print(path_to_json)\n",
    "        #print(js)\n",
    "       \n",
    "        # here I push a list of data into a pandas DataFrame at row given by 'index'\n",
    "        #jsons_data.loc[index] = [country, state, city]\n",
    "        #print(term,country,state,city)\n",
    "\n",
    "\n",
    "    shutil.move(r'C:\\Users\\HP\\Desktop\\my-notebook\\DataAnalysis4Python_Spring17\\Assignment 2\\Data\\%s' % js, newpath)\n",
    "        "
   ]
  },
  {
   "cell_type": "code",
   "execution_count": 5,
   "metadata": {
    "collapsed": false
   },
   "outputs": [],
   "source": [
    "#Part 2\n",
    "\n",
    "import csv\n",
    "import datetime\n",
    "csvfile=open(r'restaurant.csv', 'w',encoding='utf-8')#open the csvfile\n",
    "writer=csv.writer(csvfile)  # the csv file is written using csv.writer\n",
    "writer.writerow(['Name of Restaurant','City','Country Code','Day of Week','Start Time Hour','Start Time Minute','End Time Hour','End Time Minute']) #writer to write the row\n",
    "path_to_json = r'C:\\Users\\HP\\Desktop\\my-notebook\\DataAnalysis4Python_Spring17\\Assignment 2\\Data'\n",
    "for js in json_files: # looping through the json files\n",
    "    with open(os.path.join(path_to_json, js)) as json_file: #append the path of json files\n",
    "        loaded_file = json.load(json_file) #load the json file\n",
    "        for key,value in loaded_file.items():\n",
    "             if value=='restaurants':  # checking for the 'term' restaurants in json files\n",
    "                    name=loaded_file['name'] # name of the column is set\n",
    "                    for key,value in loaded_file.items():\n",
    "                        if key=='location':\n",
    "                            city=value.get('city') #similarly the row values for city and country are also got\n",
    "                            country=value.get('country')\n",
    "                            for key,value in loaded_file.items():       \n",
    "                                if key=='hours':\n",
    "                                    for v in value:\n",
    "                                        for k,v in v.items():\n",
    "                                            if k=='open':\n",
    "                                                for a in v:\n",
    "                                                    st= datetime.datetime.strptime(a['start'],\"%H%M\") #use strip time function to strip the hours and minute from the start time\n",
    "                                                    end=datetime.datetime.strptime(a['end'],\"%H%M\") # use strip time function to strip  the hours and minute from the end time                       \n",
    "                                                    writer.writerow([name,city,country,a['day'],st.hour,st.minute,end.hour,end.minute]) #export the data in the required csv format\n"
   ]
  },
  {
   "cell_type": "code",
   "execution_count": null,
   "metadata": {
    "collapsed": true
   },
   "outputs": [],
   "source": []
  }
 ],
 "metadata": {
  "anaconda-cloud": {},
  "kernelspec": {
   "display_name": "Python [conda root]",
   "language": "python",
   "name": "conda-root-py"
  },
  "language_info": {
   "codemirror_mode": {
    "name": "ipython",
    "version": 3
   },
   "file_extension": ".py",
   "mimetype": "text/x-python",
   "name": "python",
   "nbconvert_exporter": "python",
   "pygments_lexer": "ipython3",
   "version": "3.5.2"
  }
 },
 "nbformat": 4,
 "nbformat_minor": 1
}
